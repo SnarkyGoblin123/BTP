{
 "cells": [
  {
   "cell_type": "markdown",
   "metadata": {},
   "source": [
    "# Import Libraries"
   ]
  },
  {
   "cell_type": "code",
   "execution_count": 1,
   "metadata": {},
   "outputs": [],
   "source": [
    "import numpy as np\n",
    "import matplotlib.pyplot as plt\n",
    "from scipy.signal import fftconvolve\n",
    "from scipy.signal import correlate\n",
    "import copy\n",
    "import math\n"
   ]
  },
  {
   "cell_type": "markdown",
   "metadata": {},
   "source": [
    "# PRN Generator"
   ]
  },
  {
   "cell_type": "code",
   "execution_count": 2,
   "metadata": {},
   "outputs": [],
   "source": [
    "SV = {\n",
    "   1: [2,6],\n",
    "   2: [3,7],\n",
    "   3: [4,8],\n",
    "   4: [5,9],\n",
    "   5: [1,9],\n",
    "   6: [2,10],\n",
    "   7: [1,8],\n",
    "   8: [2,9],\n",
    "   9: [3,10],\n",
    "  10: [2,3],\n",
    "  11: [3,4],\n",
    "  12: [5,6],\n",
    "  13: [6,7],\n",
    "  14: [7,8],\n",
    "  15: [8,9],\n",
    "  16: [9,10],\n",
    "  17: [1,4],\n",
    "  18: [2,5],\n",
    "  19: [3,6],\n",
    "  20: [4,7],\n",
    "  21: [5,8],\n",
    "  22: [6,9],\n",
    "  23: [1,3],\n",
    "  24: [4,6],\n",
    "  25: [5,7],\n",
    "  26: [6,8],\n",
    "  27: [7,9],\n",
    "  28: [8,10],\n",
    "  29: [1,6],\n",
    "  30: [2,7],\n",
    "  31: [3,8],\n",
    "  32: [4,9],\n",
    "}\n",
    "\n",
    "def shift(register, feedback, output):\n",
    "    \"\"\"GPS Shift Register\n",
    "\n",
    "    :param list feedback: which positions to use as feedback (1 indexed)\n",
    "    :param list output: which positions are output (1 indexed)\n",
    "    :returns output of shift register:\n",
    "\n",
    "    \"\"\"\n",
    "\n",
    "    out = [register[i-1] for i in output]\n",
    "    if len(out) > 1:\n",
    "        out = sum(out) % 2\n",
    "    else:\n",
    "        out = out[0]\n",
    "\n",
    "    fb = sum([register[i-1] for i in feedback]) % 2\n",
    "\n",
    "    for i in reversed(range(len(register[1:]))):\n",
    "        register[i+1] = register[i]\n",
    "\n",
    "    register[0] = fb\n",
    "\n",
    "    return out\n",
    "\n",
    "def PRN(sv):\n",
    "\n",
    "    \"\"\"Build the CA code (PRN) for a given satellite ID\n",
    "\n",
    "    :param int sv: satellite code (1-32)\n",
    "    :returns list: ca code for chosen satellite\n",
    "\n",
    "    \"\"\"\n",
    "\n",
    "    # init registers\n",
    "    G1 = [1 for i in range(10)]\n",
    "    G2 = [1 for i in range(10)]\n",
    "\n",
    "    ca = [] # stuff output in here\n",
    "\n",
    "    # create sequence\n",
    "    for i in range(1023):\n",
    "        g1 = shift(G1, [3,10], [10])\n",
    "        g2 = shift(G2, [2,3,6,8,9,10], SV[sv]) # <- sat chosen here from table\n",
    "\n",
    "        # modulo 2 add and append to the code\n",
    "        ca.append((g1 + g2) % 2)\n",
    "\n",
    "    # return C/A code!\n",
    "    return ca"
   ]
  },
  {
   "cell_type": "markdown",
   "metadata": {},
   "source": [
    "# Fine Doppler Search"
   ]
  },
  {
   "cell_type": "code",
   "execution_count": 3,
   "metadata": {},
   "outputs": [],
   "source": [
    "\n",
    "\n",
    "def apply_doppler_shift(compdata, fd, fs, doppler_shift, st):\n",
    "    n = np.arange(len(compdata)) + st\n",
    "    shift_factor = np.exp(-1j * 2 * np.pi * (fd + doppler_shift) * n / fs)\n",
    "    return compdata * shift_factor\n",
    "\n",
    "def correlate(compdata, chunk):\n",
    "    correlation = fftconvolve(compdata,chunk[::-1], mode='valid')\n",
    "    # plt.plot(np.imag(correlation))\n",
    "    # plt.show()\n",
    "    return correlation\n",
    "\n",
    "def search_doppler_shift(compdata, st, chunk, fd, fs, search_param = [-10, 1, 10], imag_threshold=300000):\n",
    "    best_shift = 0\n",
    "    max_correlation = 0\n",
    "    prev_min = 1e7\n",
    "    curr_min = 1e7\n",
    "    for doppler_shift in [search_param[0]+search_param[1]*i for i in range(int((search_param[2]-search_param[0])/search_param[1]))]:\n",
    "        shifted_data = apply_doppler_shift(compdata, fd, fs, doppler_shift, st)\n",
    "        corr = correlate(shifted_data, chunk)\n",
    "        real_corr = np.real(corr)\n",
    "        imag_corr = np.imag(corr)\n",
    "        \n",
    "        if np.all(np.abs(imag_corr) < imag_threshold):\n",
    "            # print(imag_corr[:20])\n",
    "            curr_min = np.max(np.abs(imag_corr)) #Finding max in imag_corr and checking if it is less than prev max\n",
    "            if (curr_min < prev_min):\n",
    "                prev_min = curr_min\n",
    "                best_shift = doppler_shift\n",
    "                plt.figure(figsize=(10, 6))\n",
    "                plt.plot(real_corr, label='Real Part', color='blue')\n",
    "                plt.plot(imag_corr, label='Imaginary Part', color='red')\n",
    "                plt.title(f'Fine Doppler Correction: {doppler_shift}')\n",
    "                plt.xlabel('Sample Index')\n",
    "                plt.ylabel('Correlation Amplitude')\n",
    "                plt.legend()\n",
    "                plt.grid(True)\n",
    "                plt.show()\n",
    "            # break\n",
    "    \n",
    "    return best_shift, max_correlation\n"
   ]
  },
  {
   "cell_type": "code",
   "execution_count": 4,
   "metadata": {},
   "outputs": [],
   "source": [
    "def generate_prn_upsample(sv, sample_rate):\n",
    "    prn = PRN(sv)\n",
    "    prn = [-1 if x == 0 else x for x in prn]\n",
    "\n",
    "    prn_upsample = np.zeros(sample_rate//1000)\n",
    "    n = 0\n",
    "    for i in range(sample_rate//1000):\n",
    "        prn_upsample[i] = prn[math.ceil(1000*(i+1)*len(prn)/sample_rate)-1]\n",
    "\n",
    "    return prn_upsample\n",
    "\n",
    "\n",
    "# Doppler Shift\n",
    "doppler = {18 : 0, 12: 2697.905, 13: -2848.802, 10: 2891.328, 5: -2449.682, 15: -1816.517, 23: 2137.817}\n"
   ]
  },
  {
   "cell_type": "code",
   "execution_count": 31,
   "metadata": {},
   "outputs": [],
   "source": [
    "def estimate_alpha(filepath, doppler, sampling_rate, sv, preamble_start_ind, fine_doppler):\n",
    "    print(preamble_start_ind)\n",
    "    print(fine_doppler)\n",
    "    data = np.fromfile(filepath, dtype = np.short)\n",
    "    compdata =  data[0::2] + 1j * data[1::2]\n",
    "    fs = sampling_rate\n",
    "    fd = doppler\n",
    "    prn_upsample = generate_prn_upsample(sv, fs)\n",
    "    gold_code = []\n",
    "    # Repeats the PRN code 20 times\n",
    "    for i in range(20):\n",
    "        gold_code.append(prn_upsample)\n",
    "    gold_code = np.array(gold_code).flatten()\n",
    "\n",
    "    code = [1,0,0,0,1,0,1,1] # Initial 8 bits of the processed I data\n",
    "\n",
    "    # Generate the input vector from gold code and I values\n",
    "    v1 = []\n",
    "    for i in range(len(code)):\n",
    "        if code[i] == 1:\n",
    "            v1.append(np.array(gold_code))\n",
    "        else:\n",
    "            v1.append(np.multiply(-1,np.array(gold_code)))\n",
    "    v1 = np.array(v1).flatten()\n",
    "    est_alpha = []\n",
    "    for i in range(len(preamble_start_ind)):\n",
    "        st = preamble_start_ind[i]\n",
    "        y = copy.deepcopy(compdata[st:st+len(v1)])\n",
    "        y = apply_doppler_shift(y, fd, fs, fine_doppler[i], st)\n",
    "        # corr = correlate(, v1)\n",
    "        alpha_hat = np.dot(v1.T, y)/np.dot(v1.T,v1)\n",
    "        if np.real(alpha_hat) < 0:\n",
    "            alpha_hat = -alpha_hat\n",
    "        print(f\"Alpha for SV {sv} at {fine_doppler[i]} Hz and index {st}: {alpha_hat}\")\n",
    "        est_alpha.append(alpha_hat)\n",
    "        # y1 = y - alpha_hat * v1\n",
    "    \n",
    "    return np.mean(est_alpha), np.std(est_alpha)\n",
    "    \n"
   ]
  },
  {
   "cell_type": "code",
   "execution_count": 32,
   "metadata": {},
   "outputs": [],
   "source": [
    "sampling_rate = 4000000\n",
    "doppler = {18 : 0, 12: 2697.905, 13: -2848.802, 10: 2891.328, 5: -2449.682, 15: -1816.517, 23: 2137.817}\n",
    "sv = 10"
   ]
  },
  {
   "cell_type": "code",
   "execution_count": 33,
   "metadata": {},
   "outputs": [
    {
     "name": "stdout",
     "output_type": "stream",
     "text": [
      "[324143, 24324099, 48324055, 72324011, 96323967]\n",
      "[-2.31, -2.07, -1.58, -1.12, -0.5]\n",
      "Alpha for SV 10 at -2.31 Hz and index 324143: (94.03503186484114+2.0430024066819j)\n",
      "Alpha for SV 10 at -2.07 Hz and index 24324099: (93.78289707037548+1.40213777516384j)\n",
      "Alpha for SV 10 at -1.58 Hz and index 48324055: (93.61493364474006-1.4600490025475592j)\n",
      "Alpha for SV 10 at -1.12 Hz and index 72324011: (94.88692890194748+9.458225121194333j)\n",
      "Alpha for SV 10 at -0.5 Hz and index 96323967: (93.98431039540822+1.5391908796292892j)\n",
      "Mean Alpha: (94.06082037546248+2.596501436024361j), Std: 3.6702766979299057\n"
     ]
    }
   ],
   "source": [
    "preamble_start_ind = [324143, 24324099, 48324055, 72324011, 96323967]\n",
    "fine_doppler = [-2.31, -2.07, -1.58, -1.12, -0.5]\n",
    "filepath = '/home/joel/gps-sdr-sim-master/prn_gain1/split_data/mydataa'\n",
    "alp1, std1 = estimate_alpha(filepath, doppler[sv], sampling_rate, sv, preamble_start_ind, fine_doppler)\n",
    "\n",
    "print(f\"Mean Alpha: {alp1}, Std: {std1}\")\n"
   ]
  },
  {
   "cell_type": "code",
   "execution_count": 34,
   "metadata": {},
   "outputs": [
    {
     "name": "stdout",
     "output_type": "stream",
     "text": [
      "[324143, 24324099, 48324055, 72324011, 96323967]\n",
      "[-2.31, -2.07, -1.58, -1.12, -0.5]\n",
      "Alpha for SV 10 at -2.31 Hz and index 324143: (83.18753590865649+1.810651343648943j)\n",
      "Alpha for SV 10 at -2.07 Hz and index 24324099: (82.96531516867287+1.2336090431495708j)\n",
      "Alpha for SV 10 at -1.58 Hz and index 48324055: (82.81229316012815-1.2807507706590624j)\n",
      "Alpha for SV 10 at -1.12 Hz and index 72324011: (83.95769505053278+8.379688133034337j)\n",
      "Alpha for SV 10 at -0.5 Hz and index 96323967: (83.15029909883373+1.3605580119119536j)\n",
      "Mean Alpha: (83.21462767736482+2.3007511522171487j), Std: 3.250373367059796\n"
     ]
    }
   ],
   "source": [
    "preamble_start_ind = [324143, 24324099, 48324055, 72324011, 96323967]\n",
    "fine_doppler = [-2.31, -2.07, -1.58, -1.12, -0.5]\n",
    "filepath = '/home/joel/gps-sdr-sim-master/prn_gain0.9/split_data/mydataa'\n",
    "alp2, std2 = estimate_alpha(filepath, doppler[sv], sampling_rate, sv, preamble_start_ind, fine_doppler)\n",
    "\n",
    "print(f\"Mean Alpha: {alp2}, Std: {std2}\")"
   ]
  },
  {
   "cell_type": "code",
   "execution_count": null,
   "metadata": {},
   "outputs": [],
   "source": [
    "preamble_start_ind = [324143, 24324099, 48324055, 72324011, 96323967]\n",
    "fine_doppler = [-2.31, -2.07, -1.58, -1.12, -0.5]\n",
    "filepath = '/home/joel/gps-sdr-sim-master/prn_gain0.9/split_data/mydataa'\n",
    "alp2, std2 = estimate_alpha(filepath, doppler[sv], sampling_rate, sv, preamble_start_ind, fine_doppler)\n",
    "\n",
    "print(f\"Mean Alpha: {alp2}, Std: {std2}\")"
   ]
  },
  {
   "cell_type": "code",
   "execution_count": 35,
   "metadata": {},
   "outputs": [
    {
     "name": "stdout",
     "output_type": "stream",
     "text": [
      "[324143, 24324099, 48324055, 72324011, 96323967]\n",
      "[-2.31, -2.07, -1.58, -1.12, -0.5]\n",
      "Alpha for SV 10 at -2.31 Hz and index 324143: (70.52539096571222+1.5309196873677118j)\n",
      "Alpha for SV 10 at -2.07 Hz and index 24324099: (70.33665743211043+1.05454599509438j)\n",
      "Alpha for SV 10 at -1.58 Hz and index 48324055: (70.21111661347898-1.100061916993516j)\n",
      "Alpha for SV 10 at -1.12 Hz and index 72324011: (71.15298703043086+7.08671602877979j)\n",
      "Alpha for SV 10 at -0.5 Hz and index 96323967: (70.4842597904843+1.1534339973649368j)\n",
      "Mean Alpha: (70.54208236644337+1.9451107583226606j), Std: 2.750605664547339\n"
     ]
    }
   ],
   "source": [
    "preamble_start_ind = [324143, 24324099, 48324055, 72324011, 96323967]\n",
    "fine_doppler = [-2.31, -2.07, -1.58, -1.12, -0.5]\n",
    "filepath = '/home/joel/gps-sdr-sim-master/prn_gain0.75/split_data/mydataa'\n",
    "alp3, std3 = estimate_alpha(filepath, doppler[sv], sampling_rate, sv, preamble_start_ind, fine_doppler)\n",
    "\n",
    "print(f\"Mean Alpha: {alp3}, Std: {std3}\")"
   ]
  },
  {
   "cell_type": "code",
   "execution_count": 36,
   "metadata": {},
   "outputs": [
    {
     "name": "stdout",
     "output_type": "stream",
     "text": [
      "[324143, 24324099, 48324055, 72324011, 96323967]\n",
      "[-2.31, -2.07, -1.58, -1.12, -0.5]\n",
      "Alpha for SV 10 at -2.31 Hz and index 324143: (47.01480854410043+1.0183163825149681j)\n",
      "Alpha for SV 10 at -2.07 Hz and index 24324099: (46.89141400964416+0.70508953269886j)\n",
      "Alpha for SV 10 at -1.58 Hz and index 48324055: (46.80926657694561-0.7414777188787571j)\n",
      "Alpha for SV 10 at -1.12 Hz and index 72324011: (47.42547299985163+4.715282612902705j)\n",
      "Alpha for SV 10 at -0.5 Hz and index 96323967: (46.98485235092424+0.7700693777543366j)\n",
      "Mean Alpha: (47.02516289629322+1.2934560373984225j), Std: 1.8315099449020094\n"
     ]
    }
   ],
   "source": [
    "preamble_start_ind = [324143, 24324099, 48324055, 72324011, 96323967]\n",
    "fine_doppler = [-2.31, -2.07, -1.58, -1.12, -0.5]\n",
    "filepath = '/home/joel/gps-sdr-sim-master/prn_gain0.5/split_data/mydataa'\n",
    "alp4, std4 = estimate_alpha(filepath, doppler[sv], sampling_rate, sv, preamble_start_ind, fine_doppler)\n",
    "\n",
    "print(f\"Mean Alpha: {alp4}, Std: {std4}\")"
   ]
  },
  {
   "cell_type": "code",
   "execution_count": 37,
   "metadata": {},
   "outputs": [
    {
     "data": {
      "image/png": "[encoded data removed]",
      "text/plain": [
       "<Figure size 1000x600 with 1 Axes>"
      ]
     },
     "metadata": {},
     "output_type": "display_data"
    }
   ],
   "source": [
    "gains = [0.5, 0.75, 0.9, 1]\n",
    "alphas = [alp4, alp3, alp2, alp1]\n",
    "\n",
    "plt.figure(figsize=(10, 6))\n",
    "plt.plot(gains, [np.real(alpha) for alpha in alphas], marker='o', label='Real Part')\n",
    "plt.plot(gains, [np.imag(alpha) for alpha in alphas], marker='o', label='Imaginary Part')\n",
    "plt.title('Alpha vs Gain')\n",
    "plt.xlabel('Gain')\n",
    "plt.ylabel('Alpha')\n",
    "plt.legend()\n",
    "plt.grid(True)\n",
    "plt.show()"
   ]
  },
  {
   "cell_type": "code",
   "execution_count": null,
   "metadata": {},
   "outputs": [],
   "source": []
  }
 ],
 "metadata": {
  "kernelspec": {
   "display_name": "python3.10",
   "language": "python",
   "name": "python3"
  },
  "language_info": {
   "codemirror_mode": {
    "name": "ipython",
    "version": 3
   },
   "file_extension": ".py",
   "mimetype": "text/x-python",
   "name": "python",
   "nbconvert_exporter": "python",
   "pygments_lexer": "ipython3",
   "version": "3.10.12"
  }
 },
 "nbformat": 4,
 "nbformat_minor": 2
}
