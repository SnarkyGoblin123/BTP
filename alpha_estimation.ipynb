{
 "cells": [
  {
   "cell_type": "code",
   "execution_count": 81,
   "metadata": {},
   "outputs": [],
   "source": [
    "import numpy as np"
   ]
  },
  {
   "cell_type": "code",
   "execution_count": 82,
   "metadata": {},
   "outputs": [],
   "source": [
    "# alpha is any random 1x20 vector\n",
    "alpha = 0.5\n",
    "alpha_1 = 0.6\n",
    "noise = np.zeros((20,1))\n",
    "for i in range(20):\n",
    "    noise[i] = np.random.normal(0,1)"
   ]
  },
  {
   "cell_type": "code",
   "execution_count": 83,
   "metadata": {},
   "outputs": [
    {
     "name": "stdout",
     "output_type": "stream",
     "text": [
      "Dot product (should be close to 0): [[8.60422844e-16]]\n"
     ]
    }
   ],
   "source": [
    "# create a 20 length vector\n",
    "x = np.zeros((20,1))\n",
    "for i in range(20):\n",
    "    x[i] = np.random.normal(0,1)\n",
    "u = np.random.randn(20, 1)\n",
    "u_orthogonal = u - (np.dot(x.T, u) / np.dot(x.T, x)) * x\n",
    "dot_product = np.dot(x.T, u_orthogonal)\n",
    "print(\"Dot product (should be close to 0):\", dot_product)"
   ]
  },
  {
   "cell_type": "code",
   "execution_count": 84,
   "metadata": {},
   "outputs": [],
   "source": [
    "y = np.multiply(alpha,x) + noise\n",
    "y_1 = np.multiply(alpha,x) + np.multiply(alpha_1,u_orthogonal) + noise"
   ]
  },
  {
   "cell_type": "code",
   "execution_count": 85,
   "metadata": {},
   "outputs": [
    {
     "name": "stdout",
     "output_type": "stream",
     "text": [
      "(20, 1)\n",
      "(20, 20)\n"
     ]
    }
   ],
   "source": [
    "print(noise.shape)\n",
    "print(np.dot(x,x.T).shape)"
   ]
  },
  {
   "cell_type": "code",
   "execution_count": 86,
   "metadata": {},
   "outputs": [
    {
     "name": "stdout",
     "output_type": "stream",
     "text": [
      "[[0.40110492]]\n"
     ]
    }
   ],
   "source": [
    "#estimation of alpha given x and y\n",
    "alpha_est = np.dot(np.linalg.inv(np.dot(x.T,x)),np.dot(x.T,y))\n",
    "print(alpha_est)"
   ]
  },
  {
   "cell_type": "code",
   "execution_count": 87,
   "metadata": {},
   "outputs": [
    {
     "name": "stdout",
     "output_type": "stream",
     "text": [
      "[[0.40110492]]\n"
     ]
    }
   ],
   "source": [
    "#estimation of alpha given x and y\n",
    "alpha_est = np.dot(np.linalg.inv(np.dot(x.T,x)),np.dot(x.T,y_1))\n",
    "print(alpha_est)"
   ]
  }
 ],
 "metadata": {
  "kernelspec": {
   "display_name": "Python 3",
   "language": "python",
   "name": "python3"
  },
  "language_info": {
   "codemirror_mode": {
    "name": "ipython",
    "version": 3
   },
   "file_extension": ".py",
   "mimetype": "text/x-python",
   "name": "python",
   "nbconvert_exporter": "python",
   "pygments_lexer": "ipython3",
   "version": "3.10.6"
  }
 },
 "nbformat": 4,
 "nbformat_minor": 2
}
