{
 "cells": [
  {
   "cell_type": "markdown",
   "metadata": {},
   "source": [
    "# Can be ignored, we were using to run some tests whether 2 datas are equal or not"
   ]
  },
  {
   "cell_type": "code",
   "execution_count": 1,
   "metadata": {},
   "outputs": [],
   "source": [
    "import numpy as np\n",
    "from goldcodegenerator import PRN"
   ]
  },
  {
   "cell_type": "code",
   "execution_count": 2,
   "metadata": {},
   "outputs": [
    {
     "name": "stdout",
     "output_type": "stream",
     "text": [
      "<class 'numpy.ndarray'>\n"
     ]
    }
   ],
   "source": [
    "filepath = '/home/joel/gps-sdr-sim-master/gen_data_split/output_upd.dat'\n",
    "# filepath = '/home/joel/prn_10_removed_data/split/mydataa'\n",
    "data1 = np.fromfile(filepath,dtype = np.short)\n",
    "compdata1 = data1[::2] + (1j)*data1[1::2]\n",
    "# print(compdata1[25323923])\n",
    "\n",
    "filepath = '/home/joel/gain0.5_data/split/mydataa'\n",
    "data = np.fromfile(filepath,dtype = np.short)\n",
    "compdata2 = data[::2] + (1j)*data[1::2]\n",
    "# print(compdata2[120323923])\n",
    "\n",
    "filepath = '/home/joel/gps-sdr-sim-master/gen_data_split/mydataa'\n",
    "data2 = np.fromfile(filepath,dtype = np.short)\n",
    "compdata3 = data2[::2] + (1j)*data2[1::2]\n",
    "\n",
    "# print(compdata1[25323923])\n",
    "\n",
    "del data1\n",
    "del data\n",
    "del data2\n",
    "\n"
   ]
  },
  {
   "cell_type": "code",
   "execution_count": 4,
   "metadata": {},
   "outputs": [
    {
     "name": "stdout",
     "output_type": "stream",
     "text": [
      "<class 'numpy.float64'>\n"
     ]
    }
   ],
   "source": [
    "print(type(np.real(compdata3[1])))"
   ]
  },
  {
   "cell_type": "code",
   "execution_count": 3,
   "metadata": {},
   "outputs": [],
   "source": [
    "subfrm3 = 48324055\n",
    "compdata1 = compdata1[:subfrm3+700000]\n",
    "compdata2 = compdata2[:subfrm3+700000]\n",
    "compdata3 = compdata3[:subfrm3+700000]\n",
    "# print(np.abs(compdata1[subfrm3:subfrm3+640000] - compdata2[subfrm3:subfrm3+640000]))\n",
    "sv = 10\n",
    "prn = PRN(sv)\n",
    "prn = [-1 if x == 0 else x for x in prn]\n",
    "\n",
    "prn_upsample = []\n",
    "n = 0\n",
    "for i in range(4000):\n",
    "    if ((i+1)/4000 <= (n+1)/1023):\n",
    "        prn_upsample.append(prn[n])\n",
    "    else:\n",
    "        n = n+1\n",
    "        prn_upsample.append(prn[n])\n",
    "# Doppler Shift\n",
    "doppler = {18 : 0, 12: 2697.905, 13: -2848.802, 10: 2891.328, 5: -2449.682, 15: -1816.517, 23: 2137.817}\n",
    "gold_code = []\n",
    "for i in range(20):\n",
    "  gold_code.append(prn_upsample)\n",
    "gold_code = np.array(gold_code).flatten()\n",
    "code = [1,0,0,0,1,0,1,1]\n",
    "v1 = []\n",
    "for i in range(len(code)):\n",
    "  if code[i] == 1:\n",
    "    v1.append(np.array(gold_code))\n",
    "  else:\n",
    "    v1.append(np.multiply(-1,np.array(gold_code)))\n",
    "v1 = np.array(v1).flatten()\n",
    "\n"
   ]
  },
  {
   "cell_type": "code",
   "execution_count": 4,
   "metadata": {},
   "outputs": [],
   "source": [
    "f_d = doppler[sv] \n",
    "# f_d = 1000\n",
    "n = np.arange(len(compdata2[:subfrm3+700000]))\n",
    "compdata1_shifted = np.round(np.multiply(compdata1,np.exp(-1j*2*np.pi*f_d*n/4000000)), decimals=5)"
   ]
  },
  {
   "cell_type": "code",
   "execution_count": 5,
   "metadata": {},
   "outputs": [],
   "source": [
    "compdata2_shifted = np.round(np.multiply(compdata2,np.exp(-1j*2*np.pi*f_d*n/4000000)), decimals=5)"
   ]
  },
  {
   "cell_type": "code",
   "execution_count": 6,
   "metadata": {},
   "outputs": [],
   "source": [
    "compdata3_shifted = np.round(np.multiply(compdata3,np.exp(-1j*2*np.pi*f_d*n/4000000)), decimals=5)"
   ]
  },
  {
   "cell_type": "code",
   "execution_count": 10,
   "metadata": {},
   "outputs": [],
   "source": [
    "del compdata1\n",
    "del compdata2\n",
    "del compdata3"
   ]
  },
  {
   "cell_type": "code",
   "execution_count": 17,
   "metadata": {},
   "outputs": [
    {
     "name": "stdout",
     "output_type": "stream",
     "text": [
      "[68.07283+1399.42384j]\n",
      "[  703.     +6.0000000e+00j    78.0219 +4.6457000e+00j\n",
      "   230.01776+9.1073000e-01j   230.04677+1.8658700e+00j\n",
      "   534.91172-9.7186800e+00j  -117.1969 -7.3407600e+00j\n",
      "  -270.17223-2.6396600e+00j  -624.8749 +1.3869570e+01j\n",
      "  -624.76913+1.7706740e+01j   222.65028-1.3109290e+01j\n",
      "  -129.6388 -1.1125710e+01j   183.17118-2.1173580e+01j\n",
      "    30.8995 -2.6871900e+00j   136.46624-1.3075330e+01j\n",
      "   639.27858-3.1684290e+01j   435.91825-3.0745420e+01j\n",
      "   586.35653-5.7723620e+01j   234.51422-5.4250170e+01j\n",
      "   234.1021 -5.7308020e+01j   476.2041 -9.9411550e+01j\n",
      "   326.368  -7.6921590e+01j   321.19426-4.4791190e+01j\n",
      "   319.9925 -4.6149730e+01j    77.99191-4.1547800e+00j\n",
      "   -85.90975-3.6761400e+00j  -358.5361 +5.0949620e+01j\n",
      "  -306.46137+7.3616760e+01j  -306.24619+7.4015350e+01j\n",
      "    58.61428+2.4766240e+01j   -92.93595+2.9460290e+01j\n",
      "  -295.46994+3.1424760e+01j  -641.47123+1.1313560e+02j\n",
      "  -236.60188-7.4245000e-01j  -236.60281+3.3212000e-01j\n",
      "  -237.21408-2.5457100e+00j  -147.13688-2.7050670e+01j\n",
      "  -561.42156+9.8700740e+01j  -912.07612+1.1821231e+02j\n",
      "  -568.3293 +2.3954280e+01j  -425.14274-2.5488170e+01j\n",
      "   642.13241-1.8505936e+02j   641.10017-1.8895652e+02j\n",
      "   300.8427 -8.7628020e+01j   300.44162-8.8993440e+01j\n",
      "  -433.57657+1.5373880e+01j    65.86913-3.2035270e+01j\n",
      "   604.11979-1.4954691e+02j   372.9403 -6.8560450e+01j\n",
      "   305.50525-1.0045169e+02j   305.70801-9.8912140e+01j\n",
      "   529.78587-2.0349922e+02j   528.11244-2.0470038e+02j\n",
      "   503.85522-1.2022861e+02j   356.63985-8.2395500e+01j\n",
      "   -69.60158+2.2574780e+01j   -67.54055+2.6519300e+01j\n",
      "   593.41625-1.6563258e+02j   241.94496-1.4889808e+02j\n",
      "   660.74042-2.6519258e+02j   663.57592-2.6100573e+02j\n",
      "   671.50813-1.7934835e+02j   612.22721-2.2711195e+02j\n",
      "   610.50669-2.2865165e+02j   298.01423-1.3145538e+02j\n",
      "   298.37218-1.3309410e+02j   498.41741-1.3797859e+02j\n",
      "   369.74222-5.6707040e+01j   843.93982-1.6965431e+02j\n",
      "   841.90396-1.7413420e+02j   495.97806-1.2708565e+02j\n",
      "   312.57132-3.5484770e+01j   267.43622-1.3047555e+02j\n",
      "   419.84652-1.4134674e+02j   622.55281-1.4239732e+02j\n",
      "   622.55926-1.4333518e+02j  -199.48385+2.3939757e+02j\n",
      "  -547.36531+2.7757560e+02j  -545.84479+2.7783713e+02j\n",
      "  -667.53334+3.7163590e+02j   356.27187-6.0986500e+01j\n",
      "   354.70111-6.3183270e+01j   587.20665-3.2277601e+02j\n",
      "   395.79325-1.6857256e+02j  -146.68855+1.5379359e+02j\n",
      "  -284.45992+2.1216163e+02j  -570.34574+4.2395015e+02j\n",
      "  -382.65938+2.6570058e+02j -1015.05871+2.8357152e+02j\n",
      "  -525.16535+1.8817904e+02j  -322.48475+1.8689190e+02j\n",
      "  -389.26666+2.5361284e+02j   144.16269+4.4878930e+01j\n",
      "     7.36817+1.1270630e+02j     9.20202+1.1317386e+02j\n",
      "     9.71592+1.1313090e+02j  -189.80275+3.3618435e+02j\n",
      "   -51.27679+2.6880233e+02j   120.88462+9.2260000e+01j\n",
      "   120.39982+9.2140570e+01j  -184.14891+2.4654042e+02j]\n"
     ]
    }
   ],
   "source": [
    "ind = np.where(np.imag(compdata3_shifted) == max(np.imag(compdata3_shifted)))[0]\n",
    "print(compdata3_shifted[ind])\n",
    "\n",
    "print(compdata3_shifted[:100])"
   ]
  },
  {
   "cell_type": "code",
   "execution_count": 7,
   "metadata": {},
   "outputs": [
    {
     "name": "stdout",
     "output_type": "stream",
     "text": [
      "[1219066.60587-5362595.0945j]\n",
      "[-4926519.32991+12963214.03881001j]\n",
      "[-12194937.00832001+53644480.58536001j]\n"
     ]
    }
   ],
   "source": [
    "print(np.correlate(compdata1_shifted[subfrm3:subfrm3+640000], v1))\n",
    "print(np.correlate(compdata2_shifted[subfrm3:subfrm3+640000], v1))\n",
    "print(np.correlate(compdata3_shifted[subfrm3:subfrm3+640000], v1))"
   ]
  },
  {
   "cell_type": "code",
   "execution_count": 8,
   "metadata": {},
   "outputs": [
    {
     "name": "stdout",
     "output_type": "stream",
     "text": [
      "(1.9047915716718782-8.379054835156252j)\n",
      "(-7.697686452984381+20.255021935640634j)\n",
      "(-19.05458907550001+83.81950091462501j)\n"
     ]
    }
   ],
   "source": [
    "y1 = compdata1_shifted[subfrm3:subfrm3+640000]\n",
    "y2 = compdata2_shifted[subfrm3:subfrm3+640000] \n",
    "y3 = compdata3_shifted[subfrm3:subfrm3+640000]\n",
    "alp_est1 = np.dot(v1.T, y1)/np.dot(v1.T,v1)\n",
    "alp_est2 = np.dot(v1.T, y2)/np.dot(v1.T,v1)\n",
    "alp_est3 = np.dot(v1.T, y3)/np.dot(v1.T,v1)\n",
    "print(alp_est1)\n",
    "print(alp_est2)\n",
    "\n",
    "print(alp_est3)"
   ]
  },
  {
   "cell_type": "code",
   "execution_count": 11,
   "metadata": {},
   "outputs": [
    {
     "name": "stdout",
     "output_type": "stream",
     "text": [
      "3.9669740956217483\n",
      "9.846153846153847\n"
     ]
    }
   ],
   "source": [
    "print(np.abs(alp_est3)/np.abs(alp_est2))\n",
    "print(128/13)"
   ]
  },
  {
   "cell_type": "code",
   "execution_count": null,
   "metadata": {},
   "outputs": [],
   "source": []
  }
 ],
 "metadata": {
  "kernelspec": {
   "display_name": "python3.10",
   "language": "python",
   "name": "python3"
  },
  "language_info": {
   "codemirror_mode": {
    "name": "ipython",
    "version": 3
   },
   "file_extension": ".py",
   "mimetype": "text/x-python",
   "name": "python",
   "nbconvert_exporter": "python",
   "pygments_lexer": "ipython3",
   "version": "3.10.12"
  }
 },
 "nbformat": 4,
 "nbformat_minor": 2
}
